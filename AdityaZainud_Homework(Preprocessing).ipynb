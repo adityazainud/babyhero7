{
 "cells": [
  {
   "cell_type": "code",
   "execution_count": 26,
   "metadata": {
    "ExecuteTime": {
     "end_time": "2020-08-26T01:47:02.067071Z",
     "start_time": "2020-08-26T01:47:02.064072Z"
    }
   },
   "outputs": [],
   "source": [
    "import numpy as np\n",
    "import pandas as pd\n",
    "import matplotlib.pyplot as plt\n",
    "import seaborn as sns"
   ]
  },
  {
   "cell_type": "code",
   "execution_count": 2,
   "metadata": {},
   "outputs": [
    {
     "name": "stdout",
     "output_type": "stream",
     "text": [
      "Requirement already satisfied: imblearn in c:\\programdata\\anaconda3\\lib\\site-packages (0.0)\n",
      "Requirement already satisfied: imbalanced-learn in c:\\programdata\\anaconda3\\lib\\site-packages (from imblearn) (0.7.0)\n",
      "Requirement already satisfied: numpy>=1.13.3 in c:\\programdata\\anaconda3\\lib\\site-packages (from imbalanced-learn->imblearn) (1.18.5)\n",
      "Requirement already satisfied: scipy>=0.19.1 in c:\\programdata\\anaconda3\\lib\\site-packages (from imbalanced-learn->imblearn) (1.5.0)\n",
      "Requirement already satisfied: scikit-learn>=0.23 in c:\\programdata\\anaconda3\\lib\\site-packages (from imbalanced-learn->imblearn) (0.23.1)\n",
      "Requirement already satisfied: joblib>=0.11 in c:\\programdata\\anaconda3\\lib\\site-packages (from imbalanced-learn->imblearn) (0.16.0)\n",
      "Requirement already satisfied: threadpoolctl>=2.0.0 in c:\\programdata\\anaconda3\\lib\\site-packages (from scikit-learn>=0.23->imbalanced-learn->imblearn) (2.1.0)\n",
      "Note: you may need to restart the kernel to use updated packages.\n"
     ]
    }
   ],
   "source": [
    "pip install imblearn"
   ]
  },
  {
   "cell_type": "markdown",
   "metadata": {},
   "source": [
    "## Mengubah parameter default matplotlib\n",
    "Parameter default matplotlib dapat diubah dengan rcParams sebagai berikut\n"
   ]
  },
  {
   "cell_type": "code",
   "execution_count": 3,
   "metadata": {
    "ExecuteTime": {
     "end_time": "2020-08-26T01:47:02.387221Z",
     "start_time": "2020-08-26T01:47:02.384238Z"
    }
   },
   "outputs": [],
   "source": [
    "from matplotlib import rcParams\n",
    "rcParams['figure.figsize'] = 12, 4\n",
    "rcParams['lines.linewidth'] = 3\n",
    "rcParams['xtick.labelsize'] = 'x-large'\n",
    "rcParams['ytick.labelsize'] = 'x-large'"
   ]
  },
  {
   "cell_type": "markdown",
   "metadata": {},
   "source": [
    "## Load dataset"
   ]
  },
  {
   "cell_type": "markdown",
   "metadata": {},
   "source": [
    "Load dataset yang ingin dipre-process dengan menggunakan `pd.read_csv()`."
   ]
  },
  {
   "cell_type": "code",
   "execution_count": 4,
   "metadata": {},
   "outputs": [],
   "source": [
    "misteri=pd.read_csv('misteri.csv')"
   ]
  },
  {
   "cell_type": "markdown",
   "metadata": {},
   "source": [
    "Pastikan isi dataset dengan menggunakan `df.info()` dan `df.describe()`. Pisahkan kolom menjadi numerik dan kategorikal apabila diperlukan."
   ]
  },
  {
   "cell_type": "code",
   "execution_count": 5,
   "metadata": {},
   "outputs": [
    {
     "name": "stdout",
     "output_type": "stream",
     "text": [
      "<class 'pandas.core.frame.DataFrame'>\n",
      "RangeIndex: 13592 entries, 0 to 13591\n",
      "Data columns (total 3 columns):\n",
      " #   Column  Non-Null Count  Dtype  \n",
      "---  ------  --------------  -----  \n",
      " 0   A       13418 non-null  float64\n",
      " 1   B       13415 non-null  float64\n",
      " 2   D       13405 non-null  float64\n",
      "dtypes: float64(3)\n",
      "memory usage: 318.7 KB\n",
      "None\n",
      "<class 'pandas.core.frame.DataFrame'>\n",
      "RangeIndex: 13592 entries, 0 to 13591\n",
      "Data columns (total 3 columns):\n",
      " #   Column  Non-Null Count  Dtype  \n",
      "---  ------  --------------  -----  \n",
      " 0   C       13417 non-null  float64\n",
      " 1   E       13406 non-null  float64\n",
      " 2   F       13429 non-null  float64\n",
      "dtypes: float64(3)\n",
      "memory usage: 318.7 KB\n",
      "None\n",
      "                  A             B             D\n",
      "count  13418.000000  1.341500e+04  1.340500e+04\n",
      "mean      50.604303  1.646446e+07  3.522170e+07\n",
      "std        7.185786  3.385392e+06  2.118154e+07\n",
      "min       22.000000  7.540000e+06  1.000000e+06\n",
      "25%       45.710112  1.405912e+07  2.049483e+07\n",
      "50%       50.513100  1.612895e+07  3.031256e+07\n",
      "75%       55.457167  1.854458e+07  4.465140e+07\n",
      "max       80.000000  3.400000e+07  2.340000e+08\n",
      "                  C             E             F\n",
      "count  13417.000000  13406.000000  13429.000000\n",
      "mean       2.537825      0.151574      0.040882\n",
      "std        2.830022      0.358621      0.198023\n",
      "min        0.000000      0.000000      0.000000\n",
      "25%        1.000000      0.000000      0.000000\n",
      "50%        2.000000      0.000000      0.000000\n",
      "75%        4.000000      0.000000      0.000000\n",
      "max       13.000000      1.000000      1.000000\n"
     ]
    }
   ],
   "source": [
    "# CODE HERE asumsi C,E,F adalah kategorical\n",
    "numericals=['A','B','D']\n",
    "categoricals=['C','E','F']\n",
    "print(misteri[numericals].info())\n",
    "print(misteri[categoricals].info())\n",
    "print(misteri[numericals].describe())\n",
    "print(misteri[categoricals].describe())"
   ]
  },
  {
   "cell_type": "code",
   "execution_count": 6,
   "metadata": {},
   "outputs": [
    {
     "name": "stdout",
     "output_type": "stream",
     "text": [
      "value count categoricals: \n",
      " 0.0     3347\n",
      "1.0     3279\n",
      "2.0     1992\n",
      "3.0     1333\n",
      "5.0      723\n",
      "4.0      667\n",
      "6.0      626\n",
      "7.0      577\n",
      "8.0      475\n",
      "12.0     264\n",
      "13.0     134\n",
      "Name: C, dtype: int64\n",
      "value count categoricals: \n",
      " 0.0    11374\n",
      "1.0     2032\n",
      "Name: E, dtype: int64\n",
      "value count categoricals: \n",
      " 0.0    12880\n",
      "1.0      549\n",
      "Name: F, dtype: int64\n"
     ]
    }
   ],
   "source": [
    "# CODE HERE\n",
    "for ii in misteri[categoricals]:\n",
    "    mm=ii\n",
    "    print('value count categoricals:','\\n',misteri[mm].value_counts())\n",
    "     \n"
   ]
  },
  {
   "cell_type": "code",
   "execution_count": 7,
   "metadata": {},
   "outputs": [
    {
     "name": "stdout",
     "output_type": "stream",
     "text": [
      "values categoricals C unique :\n",
      " [ 7.  0.  1. nan  4.  3.  2. 12.  8.  6.  5. 13.]\n",
      "values categoricals E unique :\n",
      " [ 0.  1. nan]\n",
      "values categoricals F unique :\n",
      " [ 0. nan  1.]\n"
     ]
    }
   ],
   "source": [
    "for ii in misteri[categoricals]:\n",
    "    mm=ii\n",
    "    print('values categoricals',mm,'unique :\\n',misteri[mm].unique())"
   ]
  },
  {
   "cell_type": "code",
   "execution_count": 8,
   "metadata": {},
   "outputs": [],
   "source": [
    "#buat df baru untuk diproses\n",
    "misteriprocessed=misteri"
   ]
  },
  {
   "cell_type": "markdown",
   "metadata": {},
   "source": [
    "## Missing Data"
   ]
  },
  {
   "cell_type": "markdown",
   "metadata": {},
   "source": [
    "Pertama, kita akan menangani data-data yang hilang. Cek jumlah data yang hilang dengan menggunakan `df.isna().sum()`."
   ]
  },
  {
   "cell_type": "code",
   "execution_count": 9,
   "metadata": {
    "ExecuteTime": {
     "end_time": "2020-08-30T02:00:03.306166Z",
     "start_time": "2020-08-30T02:00:03.302166Z"
    }
   },
   "outputs": [
    {
     "data": {
      "text/plain": [
       "A    174\n",
       "B    177\n",
       "C    175\n",
       "D    187\n",
       "E    186\n",
       "F    163\n",
       "dtype: int64"
      ]
     },
     "execution_count": 9,
     "metadata": {},
     "output_type": "execute_result"
    }
   ],
   "source": [
    "## CODE HERE\n",
    "misteriprocessed.isna().sum()"
   ]
  },
  {
   "cell_type": "markdown",
   "metadata": {},
   "source": [
    "Kolom apa saja yang memiliki data hilang/tidak lengkap? Ada berapa kolom? "
   ]
  },
  {
   "cell_type": "markdown",
   "metadata": {},
   "source": [
    "Semua Kolom ada, ada 6 kolom"
   ]
  },
  {
   "cell_type": "markdown",
   "metadata": {},
   "source": [
    "### Drop"
   ]
  },
  {
   "cell_type": "markdown",
   "metadata": {},
   "source": [
    "Apakah kita ingin menangani data dengan cara menghapus mereka? Kalau ya, hapus baris-baris dengan menggunakan `df.dropna()`."
   ]
  },
  {
   "cell_type": "code",
   "execution_count": 10,
   "metadata": {
    "ExecuteTime": {
     "end_time": "2020-08-26T01:47:04.087788Z",
     "start_time": "2020-08-26T01:47:04.079808Z"
    }
   },
   "outputs": [
    {
     "name": "stdout",
     "output_type": "stream",
     "text": [
      "numericals\n",
      "                   A             B             D\n",
      "count  13418.000000  1.341500e+04  1.340500e+04\n",
      "mean      50.604303  1.646446e+07  3.522170e+07\n",
      "std        7.185786  3.385392e+06  2.118154e+07\n",
      "min       22.000000  7.540000e+06  1.000000e+06\n",
      "25%       45.710112  1.405912e+07  2.049483e+07\n",
      "50%       50.513100  1.612895e+07  3.031256e+07\n",
      "75%       55.457167  1.854458e+07  4.465140e+07\n",
      "max       80.000000  3.400000e+07  2.340000e+08 \n",
      "\n",
      "value count categoricals: \n",
      " 0.0     3347\n",
      "1.0     3279\n",
      "2.0     1992\n",
      "3.0     1333\n",
      "5.0      723\n",
      "4.0      667\n",
      "6.0      626\n",
      "7.0      577\n",
      "8.0      475\n",
      "12.0     264\n",
      "13.0     134\n",
      "Name: C, dtype: int64\n",
      "value count categoricals: \n",
      " 0.0    11374\n",
      "1.0     2032\n",
      "Name: E, dtype: int64\n",
      "value count categoricals: \n",
      " 0.0    12880\n",
      "1.0      549\n",
      "Name: F, dtype: int64\n"
     ]
    }
   ],
   "source": [
    "#data yang murni belum diproses\n",
    "# CODE HERE\n",
    "# CODE HERE\n",
    "print('numericals\\n',misteri[numericals].describe(),'\\n')\n",
    "\n",
    "for ii in misteri[categoricals]:\n",
    "    mm=ii\n",
    "    print('value count categoricals:','\\n',misteri[mm].value_counts())"
   ]
  },
  {
   "cell_type": "code",
   "execution_count": 11,
   "metadata": {},
   "outputs": [
    {
     "name": "stdout",
     "output_type": "stream",
     "text": [
      "cek apakah masih ada data null:\n",
      " A    0\n",
      "B    0\n",
      "C    0\n",
      "D    0\n",
      "E    0\n",
      "F    0\n",
      "dtype: int64\n",
      "numericals processed:\n",
      "                   A             B             D\n",
      "count  12556.000000  1.255600e+04  1.255600e+04\n",
      "mean      50.600674  1.646976e+07  3.529423e+07\n",
      "std        7.196599  3.380724e+06  2.124292e+07\n",
      "min       22.000000  7.589834e+06  1.000000e+06\n",
      "25%       45.712914  1.406304e+07  2.052298e+07\n",
      "50%       50.510101  1.613403e+07  3.032505e+07\n",
      "75%       55.449003  1.854862e+07  4.465770e+07\n",
      "max       80.000000  3.400000e+07  2.340000e+08 \n",
      "\n",
      "value count categoricals processed: \n",
      " 0.0     3111\n",
      "1.0     3087\n",
      "2.0     1865\n",
      "3.0     1242\n",
      "5.0      675\n",
      "4.0      632\n",
      "6.0      591\n",
      "7.0      537\n",
      "8.0      442\n",
      "12.0     245\n",
      "13.0     129\n",
      "Name: C, dtype: int64\n",
      "value count categoricals processed: \n",
      " 0.0    10674\n",
      "1.0     1882\n",
      "Name: E, dtype: int64\n",
      "value count categoricals processed: \n",
      " 0.0    12046\n",
      "1.0      510\n",
      "Name: F, dtype: int64\n"
     ]
    }
   ],
   "source": [
    "#data yang diproses drop\n",
    "misteriprocessed.dropna(inplace=True)\n",
    "print('cek apakah masih ada data null:\\n',misteriprocessed.isna().sum())\n",
    "## CODE HERE\n",
    "# CODE HERE\n",
    "print('numericals processed:\\n',misteriprocessed[numericals].describe(),'\\n')\n",
    "for iiproc in misteriprocessed[categoricals]:\n",
    "    mmproc=iiproc\n",
    "    print('value count categoricals processed:','\\n',misteriprocessed[iiproc].value_counts())"
   ]
  },
  {
   "cell_type": "markdown",
   "metadata": {},
   "source": [
    "Kenapa akhirnya kita putuskan untuk menghapus data yang hilang saja?"
   ]
  },
  {
   "cell_type": "markdown",
   "metadata": {},
   "source": [
    "Karena data yang hilang bila dihapus tidak mengurangi orde data keseluruhan"
   ]
  },
  {
   "cell_type": "markdown",
   "metadata": {},
   "source": [
    "### Imputasi Numeric"
   ]
  },
  {
   "cell_type": "markdown",
   "metadata": {},
   "source": [
    "Apakah kita ingin menangani data hilang di kolom tertentu dengan imputasi? Kalau ya, lakukan imputasi dengan menggunakan `df.fillna()`"
   ]
  },
  {
   "cell_type": "code",
   "execution_count": 12,
   "metadata": {
    "ExecuteTime": {
     "end_time": "2020-08-26T01:47:04.620589Z",
     "start_time": "2020-08-26T01:47:04.447706Z"
    }
   },
   "outputs": [],
   "source": [
    "## CODE HERE"
   ]
  },
  {
   "cell_type": "markdown",
   "metadata": {
    "ExecuteTime": {
     "end_time": "2020-08-30T02:03:15.765602Z",
     "start_time": "2020-08-30T02:03:15.756609Z"
    }
   },
   "source": [
    "Kenapa akhirnya kita putuskan untuk melakukan imputasi pada kolom-kolom tersebut? Nilai apa yang digunakan untuk imputasi dan mengapa?"
   ]
  },
  {
   "cell_type": "markdown",
   "metadata": {},
   "source": [
    "### Imputasi Categorical"
   ]
  },
  {
   "cell_type": "markdown",
   "metadata": {},
   "source": [
    "Apakah kita ingin menangani data hilang di kolom tertentu dengan imputasi? Kalau ya, lakukan imputasi dengan menggunakan `df.fillna()`"
   ]
  },
  {
   "cell_type": "code",
   "execution_count": 13,
   "metadata": {},
   "outputs": [],
   "source": [
    "## CODE HERE"
   ]
  },
  {
   "cell_type": "markdown",
   "metadata": {
    "ExecuteTime": {
     "end_time": "2020-08-30T02:04:09.245732Z",
     "start_time": "2020-08-30T02:04:09.240734Z"
    }
   },
   "source": [
    "Kenapa akhirnya kita putuskan untuk melakukan imputasi pada kolom-kolom tersebut? Nilai apa yang digunakan untuk imputasi dan mengapa?"
   ]
  },
  {
   "cell_type": "markdown",
   "metadata": {
    "ExecuteTime": {
     "end_time": "2020-08-30T02:04:49.860745Z",
     "start_time": "2020-08-30T02:04:49.854750Z"
    }
   },
   "source": [
    "Cek sekali lagi apakah semua nilai hilang sudah ditangani."
   ]
  },
  {
   "cell_type": "code",
   "execution_count": 14,
   "metadata": {
    "ExecuteTime": {
     "end_time": "2020-08-30T02:05:00.418912Z",
     "start_time": "2020-08-30T02:05:00.415896Z"
    }
   },
   "outputs": [],
   "source": [
    "## CODE HERE"
   ]
  },
  {
   "cell_type": "markdown",
   "metadata": {},
   "source": [
    "## Duplicated Data"
   ]
  },
  {
   "cell_type": "markdown",
   "metadata": {},
   "source": [
    "Selanjutnya, kita akan menangani data duplikat. Gunakan `df.duplicated.sum()` untuk mengecek jumlah kolom hilang. Kemudian gunakan `df.drop_duplicates()` untuk menghapus baris-baris duplikat."
   ]
  },
  {
   "cell_type": "code",
   "execution_count": 15,
   "metadata": {
    "ExecuteTime": {
     "end_time": "2020-08-26T01:47:05.988615Z",
     "start_time": "2020-08-26T01:47:05.952636Z"
    }
   },
   "outputs": [
    {
     "name": "stdout",
     "output_type": "stream",
     "text": [
      "Duplicates:\n",
      " 0\n",
      "numericals values remain after del:\n",
      "                   A             B             D\n",
      "count  11793.000000  1.179300e+04  1.179300e+04\n",
      "mean      50.589678  1.646332e+07  3.519454e+07\n",
      "std        7.186256  3.379097e+06  2.112915e+07\n",
      "min       22.000000  7.589834e+06  1.000000e+06\n",
      "25%       45.689652  1.404653e+07  2.049156e+07\n",
      "50%       50.499226  1.612824e+07  3.028422e+07\n",
      "75%       55.439425  1.854427e+07  4.465140e+07\n",
      "max       80.000000  3.400000e+07  2.340000e+08 \n",
      "\n",
      "categoricals value count remain after del: \n",
      " 0.0     2917\n",
      "1.0     2901\n",
      "2.0     1748\n",
      "3.0     1171\n",
      "5.0      639\n",
      "4.0      592\n",
      "6.0      567\n",
      "7.0      499\n",
      "8.0      410\n",
      "12.0     230\n",
      "13.0     119\n",
      "Name: C, dtype: int64\n",
      "categoricals value count remain after del: \n",
      " 0.0    10024\n",
      "1.0     1769\n",
      "Name: E, dtype: int64\n",
      "categoricals value count remain after del: \n",
      " 0.0    11314\n",
      "1.0      479\n",
      "Name: F, dtype: int64\n"
     ]
    }
   ],
   "source": [
    "## CODE HERE\n",
    "mf=misteriprocessed.drop_duplicates(keep='first')\n",
    "print('Duplicates:\\n',mf.duplicated().sum())\n",
    "print('numericals values remain after del:\\n',mf[numericals].describe(),'\\n')\n",
    "for iimf in mf[categoricals]:\n",
    "    print('categoricals value count remain after del:','\\n',mf[iimf].value_counts())"
   ]
  },
  {
   "cell_type": "markdown",
   "metadata": {},
   "source": [
    "Apakah akhirnya semua data duplikat dihapus? Mengapa?"
   ]
  },
  {
   "cell_type": "markdown",
   "metadata": {},
   "source": [
    "* Tidak semua, karena untuk menjaga data original yang masih ada. (Sisakan 1)"
   ]
  },
  {
   "cell_type": "markdown",
   "metadata": {},
   "source": [
    "## Outliers"
   ]
  },
  {
   "cell_type": "markdown",
   "metadata": {},
   "source": [
    "Setelah data yang hilang dan duplikat, kita akan menangani outlier. Ada 2 cara untuk melakukan ini:\n",
    "* Dengan Z-score\n",
    "* Dengan IQR"
   ]
  },
  {
   "cell_type": "markdown",
   "metadata": {},
   "source": [
    "### Menggunakan Z-score"
   ]
  },
  {
   "cell_type": "markdown",
   "metadata": {},
   "source": [
    "Apakah kita memutuskan untuk menangani outlier dengan Z-score? Mengapa?"
   ]
  },
  {
   "cell_type": "markdown",
   "metadata": {},
   "source": [
    "* TIDAK. Karena Fitur B terdistribusi Right Skewed"
   ]
  },
  {
   "cell_type": "code",
   "execution_count": 16,
   "metadata": {
    "ExecuteTime": {
     "end_time": "2020-08-26T01:47:06.881163Z",
     "start_time": "2020-08-26T01:47:06.872167Z"
    }
   },
   "outputs": [],
   "source": [
    "from scipy import stats\n",
    "\n"
   ]
  },
  {
   "cell_type": "markdown",
   "metadata": {},
   "source": [
    "### Menggunakan IQR"
   ]
  },
  {
   "cell_type": "markdown",
   "metadata": {
    "ExecuteTime": {
     "end_time": "2020-08-30T02:08:30.678542Z",
     "start_time": "2020-08-30T02:08:30.672542Z"
    }
   },
   "source": [
    "Apakah kita memutuskan untuk menangani outlier dengan IQR? Mengapa?"
   ]
  },
  {
   "cell_type": "markdown",
   "metadata": {},
   "source": [
    "* Kita memutuskan menangani Outlier dengan IQR karena fitur B right skewed. Fokus ke pasangan yang  korelasinya lebih tinggi (A-B) dan (B-F). Pemilihan B-F karena pasangan merupakan fitur yang berkorelasi kuat dan diasumsikan F merupakan target.Maka dari itu perlu membersihkan Fitur B terlebih dahulu."
   ]
  },
  {
   "cell_type": "code",
   "execution_count": 17,
   "metadata": {
    "ExecuteTime": {
     "end_time": "2020-08-26T01:47:07.373261Z",
     "start_time": "2020-08-26T01:47:07.360269Z"
    }
   },
   "outputs": [
    {
     "name": "stdout",
     "output_type": "stream",
     "text": [
      "Jumlah baris sebelum memfilter outlier: 11793\n",
      "Jumlah baris setelah memfilter outlier: 10513\n"
     ]
    }
   ],
   "source": [
    "from scipy import stats\n",
    "\n",
    "Q1=mf['B'].quantile(0.25)\n",
    "Q3=mf['B'].quantile(0.75)\n",
    "IQR=Q3-Q1\n",
    "low_limit=Q1-(1.5*IQR)\n",
    "high_limit=Q1+(1.5*IQR)\n",
    "filtered_entries=((mf['B']<low_limit)|(mf['B']<high_limit))\n",
    "mfo=mf[filtered_entries]\n",
    "\n",
    "print(f'Jumlah baris sebelum memfilter outlier: {len(mf)}')\n",
    "\n",
    "## CODE HERE\n",
    "\n",
    "print(f'Jumlah baris setelah memfilter outlier: {len(mfo)}')"
   ]
  },
  {
   "cell_type": "code",
   "execution_count": 18,
   "metadata": {},
   "outputs": [
    {
     "name": "stdout",
     "output_type": "stream",
     "text": [
      "Duplicates:\n",
      " 0\n",
      "numericals values remain after del:\n",
      "                   A             B             D\n",
      "count  10513.000000  1.051300e+04  1.051300e+04\n",
      "mean      49.833691  1.568035e+07  3.529156e+07\n",
      "std        6.896806  2.589219e+06  2.118439e+07\n",
      "min       22.000000  7.589834e+06  1.000000e+06\n",
      "25%       45.183988  1.378918e+07  2.051379e+07\n",
      "50%       49.827707  1.568799e+07  3.036936e+07\n",
      "75%       54.545474  1.765072e+07  4.479911e+07\n",
      "max       75.889689  2.078822e+07  2.340000e+08 \n",
      "\n",
      "categoricals value count remain after del: \n",
      " 0.0     2601\n",
      "1.0     2587\n",
      "2.0     1536\n",
      "3.0     1055\n",
      "5.0      564\n",
      "4.0      533\n",
      "6.0      504\n",
      "7.0      450\n",
      "8.0      367\n",
      "12.0     204\n",
      "13.0     112\n",
      "Name: C, dtype: int64\n",
      "categoricals value count remain after del: \n",
      " 0.0    8947\n",
      "1.0    1566\n",
      "Name: E, dtype: int64\n",
      "categoricals value count remain after del: \n",
      " 0.0    10487\n",
      "1.0       26\n",
      "Name: F, dtype: int64\n"
     ]
    }
   ],
   "source": [
    "print('Duplicates:\\n',mfo.duplicated().sum())\n",
    "print('numericals values remain after del:\\n',mfo[numericals].describe(),'\\n')\n",
    "for iimfo in mfo[categoricals]:\n",
    "    print('categoricals value count remain after del:','\\n',mfo[iimfo].value_counts())"
   ]
  },
  {
   "cell_type": "code",
   "execution_count": 19,
   "metadata": {},
   "outputs": [
    {
     "data": {
      "image/png": "[encoded data removed]",
      "text/plain": [
       "<Figure size 412x360 with 1 Axes>"
      ]
     },
     "metadata": {
      "needs_background": "light"
     },
     "output_type": "display_data"
    },
    {
     "data": {
      "image/png": "[encoded data removed]",
      "text/plain": [
       "<Figure size 412x360 with 1 Axes>"
      ]
     },
     "metadata": {
      "needs_background": "light"
     },
     "output_type": "display_data"
    },
    {
     "data": {
      "image/png": "[encoded data removed]",
      "text/plain": [
       "<Figure size 412x360 with 1 Axes>"
      ]
     },
     "metadata": {
      "needs_background": "light"
     },
     "output_type": "display_data"
    },
    {
     "data": {
      "image/png": "[encoded data removed]",
      "text/plain": [
       "<Figure size 412x360 with 1 Axes>"
      ]
     },
     "metadata": {
      "needs_background": "light"
     },
     "output_type": "display_data"
    },
    {
     "data": {
      "image/png": "[encoded data removed]",
      "text/plain": [
       "<Figure size 412x360 with 1 Axes>"
      ]
     },
     "metadata": {
      "needs_background": "light"
     },
     "output_type": "display_data"
    },
    {
     "data": {
      "image/png": "[encoded data removed]",
      "text/plain": [
       "<Figure size 412x360 with 1 Axes>"
      ]
     },
     "metadata": {
      "needs_background": "light"
     },
     "output_type": "display_data"
    },
    {
     "data": {
      "image/png": "[encoded data removed]",
      "text/plain": [
       "<Figure size 360x360 with 1 Axes>"
      ]
     },
     "metadata": {
      "needs_background": "light"
     },
     "output_type": "display_data"
    },
    {
     "data": {
      "image/png": "[encoded data removed]",
      "text/plain": [
       "<Figure size 360x360 with 1 Axes>"
      ]
     },
     "metadata": {
      "needs_background": "light"
     },
     "output_type": "display_data"
    },
    {
     "data": {
      "image/png": "[encoded data removed]",
      "text/plain": [
       "<Figure size 360x360 with 1 Axes>"
      ]
     },
     "metadata": {
      "needs_background": "light"
     },
     "output_type": "display_data"
    }
   ],
   "source": [
    "for jj in categoricals:\n",
    "    for kk in numericals: \n",
    "        sns.catplot(data=mfo,x=jj,y=kk, hue='F');"
   ]
  },
  {
   "cell_type": "markdown",
   "metadata": {},
   "source": [
    "### Normalization/Standardization"
   ]
  },
  {
   "cell_type": "markdown",
   "metadata": {
    "ExecuteTime": {
     "end_time": "2020-08-26T01:47:08.498571Z",
     "start_time": "2020-08-26T01:47:08.464577Z"
    }
   },
   "source": [
    "Apakah kita perlu melakukan normalization/standardization?"
   ]
  },
  {
   "cell_type": "code",
   "execution_count": 20,
   "metadata": {},
   "outputs": [
    {
     "data": {
      "text/html": [
       "<div>\n",
       "<style scoped>\n",
       "    .dataframe tbody tr th:only-of-type {\n",
       "        vertical-align: middle;\n",
       "    }\n",
       "\n",
       "    .dataframe tbody tr th {\n",
       "        vertical-align: top;\n",
       "    }\n",
       "\n",
       "    .dataframe thead th {\n",
       "        text-align: right;\n",
       "    }\n",
       "</style>\n",
       "<table border=\"1\" class=\"dataframe\">\n",
       "  <thead>\n",
       "    <tr style=\"text-align: right;\">\n",
       "      <th></th>\n",
       "      <th>A</th>\n",
       "      <th>B</th>\n",
       "      <th>C</th>\n",
       "      <th>D</th>\n",
       "      <th>E</th>\n",
       "      <th>F</th>\n",
       "    </tr>\n",
       "  </thead>\n",
       "  <tbody>\n",
       "    <tr>\n",
       "      <th>count</th>\n",
       "      <td>10513.000000</td>\n",
       "      <td>1.051300e+04</td>\n",
       "      <td>10513.000000</td>\n",
       "      <td>1.051300e+04</td>\n",
       "      <td>10513.000000</td>\n",
       "      <td>10513.000000</td>\n",
       "    </tr>\n",
       "    <tr>\n",
       "      <th>mean</th>\n",
       "      <td>49.833691</td>\n",
       "      <td>1.568035e+07</td>\n",
       "      <td>2.548274</td>\n",
       "      <td>3.529156e+07</td>\n",
       "      <td>0.148958</td>\n",
       "      <td>0.002473</td>\n",
       "    </tr>\n",
       "    <tr>\n",
       "      <th>std</th>\n",
       "      <td>6.896806</td>\n",
       "      <td>2.589219e+06</td>\n",
       "      <td>2.836416</td>\n",
       "      <td>2.118439e+07</td>\n",
       "      <td>0.356064</td>\n",
       "      <td>0.049671</td>\n",
       "    </tr>\n",
       "    <tr>\n",
       "      <th>min</th>\n",
       "      <td>22.000000</td>\n",
       "      <td>7.589834e+06</td>\n",
       "      <td>0.000000</td>\n",
       "      <td>1.000000e+06</td>\n",
       "      <td>0.000000</td>\n",
       "      <td>0.000000</td>\n",
       "    </tr>\n",
       "    <tr>\n",
       "      <th>25%</th>\n",
       "      <td>45.183988</td>\n",
       "      <td>1.378918e+07</td>\n",
       "      <td>1.000000</td>\n",
       "      <td>2.051379e+07</td>\n",
       "      <td>0.000000</td>\n",
       "      <td>0.000000</td>\n",
       "    </tr>\n",
       "    <tr>\n",
       "      <th>50%</th>\n",
       "      <td>49.827707</td>\n",
       "      <td>1.568799e+07</td>\n",
       "      <td>2.000000</td>\n",
       "      <td>3.036936e+07</td>\n",
       "      <td>0.000000</td>\n",
       "      <td>0.000000</td>\n",
       "    </tr>\n",
       "    <tr>\n",
       "      <th>75%</th>\n",
       "      <td>54.545474</td>\n",
       "      <td>1.765072e+07</td>\n",
       "      <td>4.000000</td>\n",
       "      <td>4.479911e+07</td>\n",
       "      <td>0.000000</td>\n",
       "      <td>0.000000</td>\n",
       "    </tr>\n",
       "    <tr>\n",
       "      <th>max</th>\n",
       "      <td>75.889689</td>\n",
       "      <td>2.078822e+07</td>\n",
       "      <td>13.000000</td>\n",
       "      <td>2.340000e+08</td>\n",
       "      <td>1.000000</td>\n",
       "      <td>1.000000</td>\n",
       "    </tr>\n",
       "  </tbody>\n",
       "</table>\n",
       "</div>"
      ],
      "text/plain": [
       "                  A             B             C             D             E  \\\n",
       "count  10513.000000  1.051300e+04  10513.000000  1.051300e+04  10513.000000   \n",
       "mean      49.833691  1.568035e+07      2.548274  3.529156e+07      0.148958   \n",
       "std        6.896806  2.589219e+06      2.836416  2.118439e+07      0.356064   \n",
       "min       22.000000  7.589834e+06      0.000000  1.000000e+06      0.000000   \n",
       "25%       45.183988  1.378918e+07      1.000000  2.051379e+07      0.000000   \n",
       "50%       49.827707  1.568799e+07      2.000000  3.036936e+07      0.000000   \n",
       "75%       54.545474  1.765072e+07      4.000000  4.479911e+07      0.000000   \n",
       "max       75.889689  2.078822e+07     13.000000  2.340000e+08      1.000000   \n",
       "\n",
       "                  F  \n",
       "count  10513.000000  \n",
       "mean       0.002473  \n",
       "std        0.049671  \n",
       "min        0.000000  \n",
       "25%        0.000000  \n",
       "50%        0.000000  \n",
       "75%        0.000000  \n",
       "max        1.000000  "
      ]
     },
     "execution_count": 20,
     "metadata": {},
     "output_type": "execute_result"
    }
   ],
   "source": [
    "mfo.describe()"
   ]
  },
  {
   "cell_type": "code",
   "execution_count": 21,
   "metadata": {
    "ExecuteTime": {
     "end_time": "2020-08-26T01:47:08.977795Z",
     "start_time": "2020-08-26T01:47:08.967783Z"
    }
   },
   "outputs": [
    {
     "name": "stderr",
     "output_type": "stream",
     "text": [
      "<ipython-input-21-a9f138dbe437>:3: SettingWithCopyWarning: \n",
      "A value is trying to be set on a copy of a slice from a DataFrame.\n",
      "Try using .loc[row_indexer,col_indexer] = value instead\n",
      "\n",
      "See the caveats in the documentation: https://pandas.pydata.org/pandas-docs/stable/user_guide/indexing.html#returning-a-view-versus-a-copy\n",
      "  mfo['a_norm']= MinMaxScaler().fit_transform(mfo['A'].values.reshape(len(mfo),1))\n",
      "<ipython-input-21-a9f138dbe437>:4: SettingWithCopyWarning: \n",
      "A value is trying to be set on a copy of a slice from a DataFrame.\n",
      "Try using .loc[row_indexer,col_indexer] = value instead\n",
      "\n",
      "See the caveats in the documentation: https://pandas.pydata.org/pandas-docs/stable/user_guide/indexing.html#returning-a-view-versus-a-copy\n",
      "  mfo['b_norm']= MinMaxScaler().fit_transform(mfo['B'].values.reshape(len(mfo),1))\n",
      "<ipython-input-21-a9f138dbe437>:5: SettingWithCopyWarning: \n",
      "A value is trying to be set on a copy of a slice from a DataFrame.\n",
      "Try using .loc[row_indexer,col_indexer] = value instead\n",
      "\n",
      "See the caveats in the documentation: https://pandas.pydata.org/pandas-docs/stable/user_guide/indexing.html#returning-a-view-versus-a-copy\n",
      "  mfo['d_norm']= MinMaxScaler().fit_transform(mfo['D'].values.reshape(len(mfo),1))\n"
     ]
    }
   ],
   "source": [
    "from sklearn.preprocessing import MinMaxScaler, StandardScaler\n",
    "## CODE HERE\n",
    "mfo['a_norm']= MinMaxScaler().fit_transform(mfo['A'].values.reshape(len(mfo),1))\n",
    "mfo['b_norm']= MinMaxScaler().fit_transform(mfo['B'].values.reshape(len(mfo),1))\n",
    "mfo['d_norm']= MinMaxScaler().fit_transform(mfo['D'].values.reshape(len(mfo),1))"
   ]
  },
  {
   "cell_type": "markdown",
   "metadata": {},
   "source": [
    "* Setelah coba install imblearn memakai conda, "
   ]
  },
  {
   "cell_type": "markdown",
   "metadata": {},
   "source": [
    "Apakah kita melakukan normalization/standardization? \n",
    "\n",
    "Cek apakah nilai tertransformasi dengan benar dengan menggunakan `df.describe()`"
   ]
  },
  {
   "cell_type": "markdown",
   "metadata": {},
   "source": [
    "* Telah dilakukan normalization"
   ]
  },
  {
   "cell_type": "code",
   "execution_count": 22,
   "metadata": {
    "ExecuteTime": {
     "end_time": "2020-08-30T02:13:39.697874Z",
     "start_time": "2020-08-30T02:13:39.694880Z"
    }
   },
   "outputs": [
    {
     "data": {
      "text/html": [
       "<div>\n",
       "<style scoped>\n",
       "    .dataframe tbody tr th:only-of-type {\n",
       "        vertical-align: middle;\n",
       "    }\n",
       "\n",
       "    .dataframe tbody tr th {\n",
       "        vertical-align: top;\n",
       "    }\n",
       "\n",
       "    .dataframe thead th {\n",
       "        text-align: right;\n",
       "    }\n",
       "</style>\n",
       "<table border=\"1\" class=\"dataframe\">\n",
       "  <thead>\n",
       "    <tr style=\"text-align: right;\">\n",
       "      <th></th>\n",
       "      <th>A</th>\n",
       "      <th>B</th>\n",
       "      <th>C</th>\n",
       "      <th>D</th>\n",
       "      <th>E</th>\n",
       "      <th>F</th>\n",
       "      <th>a_norm</th>\n",
       "      <th>b_norm</th>\n",
       "      <th>d_norm</th>\n",
       "    </tr>\n",
       "  </thead>\n",
       "  <tbody>\n",
       "    <tr>\n",
       "      <th>count</th>\n",
       "      <td>10513.000000</td>\n",
       "      <td>1.051300e+04</td>\n",
       "      <td>10513.000000</td>\n",
       "      <td>1.051300e+04</td>\n",
       "      <td>10513.000000</td>\n",
       "      <td>10513.000000</td>\n",
       "      <td>10513.000000</td>\n",
       "      <td>10513.000000</td>\n",
       "      <td>10513.000000</td>\n",
       "    </tr>\n",
       "    <tr>\n",
       "      <th>mean</th>\n",
       "      <td>49.833691</td>\n",
       "      <td>1.568035e+07</td>\n",
       "      <td>2.548274</td>\n",
       "      <td>3.529156e+07</td>\n",
       "      <td>0.148958</td>\n",
       "      <td>0.002473</td>\n",
       "      <td>0.516494</td>\n",
       "      <td>0.612992</td>\n",
       "      <td>0.147174</td>\n",
       "    </tr>\n",
       "    <tr>\n",
       "      <th>std</th>\n",
       "      <td>6.896806</td>\n",
       "      <td>2.589219e+06</td>\n",
       "      <td>2.836416</td>\n",
       "      <td>2.118439e+07</td>\n",
       "      <td>0.356064</td>\n",
       "      <td>0.049671</td>\n",
       "      <td>0.127980</td>\n",
       "      <td>0.196177</td>\n",
       "      <td>0.090920</td>\n",
       "    </tr>\n",
       "    <tr>\n",
       "      <th>min</th>\n",
       "      <td>22.000000</td>\n",
       "      <td>7.589834e+06</td>\n",
       "      <td>0.000000</td>\n",
       "      <td>1.000000e+06</td>\n",
       "      <td>0.000000</td>\n",
       "      <td>0.000000</td>\n",
       "      <td>0.000000</td>\n",
       "      <td>0.000000</td>\n",
       "      <td>0.000000</td>\n",
       "    </tr>\n",
       "    <tr>\n",
       "      <th>25%</th>\n",
       "      <td>45.183988</td>\n",
       "      <td>1.378918e+07</td>\n",
       "      <td>1.000000</td>\n",
       "      <td>2.051379e+07</td>\n",
       "      <td>0.000000</td>\n",
       "      <td>0.000000</td>\n",
       "      <td>0.430212</td>\n",
       "      <td>0.469705</td>\n",
       "      <td>0.083750</td>\n",
       "    </tr>\n",
       "    <tr>\n",
       "      <th>50%</th>\n",
       "      <td>49.827707</td>\n",
       "      <td>1.568799e+07</td>\n",
       "      <td>2.000000</td>\n",
       "      <td>3.036936e+07</td>\n",
       "      <td>0.000000</td>\n",
       "      <td>0.000000</td>\n",
       "      <td>0.516383</td>\n",
       "      <td>0.613571</td>\n",
       "      <td>0.126049</td>\n",
       "    </tr>\n",
       "    <tr>\n",
       "      <th>75%</th>\n",
       "      <td>54.545474</td>\n",
       "      <td>1.765072e+07</td>\n",
       "      <td>4.000000</td>\n",
       "      <td>4.479911e+07</td>\n",
       "      <td>0.000000</td>\n",
       "      <td>0.000000</td>\n",
       "      <td>0.603928</td>\n",
       "      <td>0.762281</td>\n",
       "      <td>0.187979</td>\n",
       "    </tr>\n",
       "    <tr>\n",
       "      <th>max</th>\n",
       "      <td>75.889689</td>\n",
       "      <td>2.078822e+07</td>\n",
       "      <td>13.000000</td>\n",
       "      <td>2.340000e+08</td>\n",
       "      <td>1.000000</td>\n",
       "      <td>1.000000</td>\n",
       "      <td>1.000000</td>\n",
       "      <td>1.000000</td>\n",
       "      <td>1.000000</td>\n",
       "    </tr>\n",
       "  </tbody>\n",
       "</table>\n",
       "</div>"
      ],
      "text/plain": [
       "                  A             B             C             D             E  \\\n",
       "count  10513.000000  1.051300e+04  10513.000000  1.051300e+04  10513.000000   \n",
       "mean      49.833691  1.568035e+07      2.548274  3.529156e+07      0.148958   \n",
       "std        6.896806  2.589219e+06      2.836416  2.118439e+07      0.356064   \n",
       "min       22.000000  7.589834e+06      0.000000  1.000000e+06      0.000000   \n",
       "25%       45.183988  1.378918e+07      1.000000  2.051379e+07      0.000000   \n",
       "50%       49.827707  1.568799e+07      2.000000  3.036936e+07      0.000000   \n",
       "75%       54.545474  1.765072e+07      4.000000  4.479911e+07      0.000000   \n",
       "max       75.889689  2.078822e+07     13.000000  2.340000e+08      1.000000   \n",
       "\n",
       "                  F        a_norm        b_norm        d_norm  \n",
       "count  10513.000000  10513.000000  10513.000000  10513.000000  \n",
       "mean       0.002473      0.516494      0.612992      0.147174  \n",
       "std        0.049671      0.127980      0.196177      0.090920  \n",
       "min        0.000000      0.000000      0.000000      0.000000  \n",
       "25%        0.000000      0.430212      0.469705      0.083750  \n",
       "50%        0.000000      0.516383      0.613571      0.126049  \n",
       "75%        0.000000      0.603928      0.762281      0.187979  \n",
       "max        1.000000      1.000000      1.000000      1.000000  "
      ]
     },
     "execution_count": 22,
     "metadata": {},
     "output_type": "execute_result"
    }
   ],
   "source": [
    "## CODE HERE\n",
    "mfo.describe()"
   ]
  },
  {
   "cell_type": "markdown",
   "metadata": {},
   "source": [
    "### Feature Encoding"
   ]
  },
  {
   "cell_type": "markdown",
   "metadata": {
    "ExecuteTime": {
     "end_time": "2020-08-30T02:10:50.058527Z",
     "start_time": "2020-08-30T02:10:50.054528Z"
    }
   },
   "source": [
    "Apakah kita perlu melakukan feature encoding?"
   ]
  },
  {
   "cell_type": "markdown",
   "metadata": {},
   "source": [
    "* Tidak, sementara ini fitur semua berbentuk numerik"
   ]
  },
  {
   "cell_type": "code",
   "execution_count": 23,
   "metadata": {
    "ExecuteTime": {
     "end_time": "2020-08-26T01:49:21.530506Z",
     "start_time": "2020-08-26T01:49:21.508507Z"
    },
    "scrolled": true
   },
   "outputs": [
    {
     "ename": "SyntaxError",
     "evalue": "unexpected EOF while parsing (<ipython-input-23-37c68d4e7393>, line 2)",
     "output_type": "error",
     "traceback": [
      "\u001b[1;36m  File \u001b[1;32m\"<ipython-input-23-37c68d4e7393>\"\u001b[1;36m, line \u001b[1;32m2\u001b[0m\n\u001b[1;33m    # CODE HERE\u001b[0m\n\u001b[1;37m               ^\u001b[0m\n\u001b[1;31mSyntaxError\u001b[0m\u001b[1;31m:\u001b[0m unexpected EOF while parsing\n"
     ]
    }
   ],
   "source": [
    "for cat in cats:\n",
    "    # CODE HERE"
   ]
  },
  {
   "cell_type": "markdown",
   "metadata": {
    "ExecuteTime": {
     "end_time": "2020-08-30T02:11:42.450081Z",
     "start_time": "2020-08-30T02:11:42.445083Z"
    }
   },
   "source": [
    "Mengapa kita memerlukan feature encoding? Jenis feature encoding apa yang kita akhirnya gunakan dan mengapa?\n",
    "\n",
    "Jangan lupa gabungkan encoded feature dengan dataframe awal dan cek apakah sudah tergabung dengan baik dengan menggunakan `df.columns`"
   ]
  },
  {
   "cell_type": "markdown",
   "metadata": {},
   "source": [
    "* kita memerlukan featur encoding untuk menyesuaikan dengan plug in machine learning yang hanya dapat menerima input berupa numerik, bukan kategori"
   ]
  },
  {
   "cell_type": "markdown",
   "metadata": {
    "ExecuteTime": {
     "end_time": "2020-08-30T02:14:29.666812Z",
     "start_time": "2020-08-30T02:14:29.663826Z"
    }
   },
   "source": [
    "* kita memerlukan featur encoding untuk menyesuaikan dengan plug in machine learning yang hanya dapat menerima input berupa numerik, bukan kategori"
   ]
  },
  {
   "cell_type": "markdown",
   "metadata": {},
   "source": [
    "## Imbalanced Dataset"
   ]
  },
  {
   "cell_type": "markdown",
   "metadata": {},
   "source": [
    "Apakah target kita imbalanced? Cek dengan menggunakan `value_counts()`. Apakah kita perlu melakukan Over/Undersampling?\n",
    "\n",
    "Kalau ya, persiapkan data kitauntuk over/undersampling dengan memisahkan mereka ke variabel `X` dan `y`."
   ]
  },
  {
   "cell_type": "markdown",
   "metadata": {},
   "source": [
    "* Ya, Imbalanced. Kita perlu melakukan oversampling untuk fitur F"
   ]
  },
  {
   "cell_type": "code",
   "execution_count": 24,
   "metadata": {},
   "outputs": [
    {
     "name": "stdout",
     "output_type": "stream",
     "text": [
      "False    10487\n",
      "True        26\n",
      "Name: F_class, dtype: int64\n"
     ]
    },
    {
     "name": "stderr",
     "output_type": "stream",
     "text": [
      "<ipython-input-24-ee8412adb202>:1: SettingWithCopyWarning: \n",
      "A value is trying to be set on a copy of a slice from a DataFrame.\n",
      "Try using .loc[row_indexer,col_indexer] = value instead\n",
      "\n",
      "See the caveats in the documentation: https://pandas.pydata.org/pandas-docs/stable/user_guide/indexing.html#returning-a-view-versus-a-copy\n",
      "  mfo['F_class']=mfo['F']==1\n"
     ]
    }
   ],
   "source": [
    "mfo['F_class']=mfo['F']==1\n",
    "print(mfo['F_class'].value_counts())"
   ]
  },
  {
   "cell_type": "code",
   "execution_count": null,
   "metadata": {},
   "outputs": [],
   "source": []
  },
  {
   "cell_type": "code",
   "execution_count": 36,
   "metadata": {
    "ExecuteTime": {
     "end_time": "2020-08-30T02:15:54.907962Z",
     "start_time": "2020-08-30T02:15:54.896951Z"
    }
   },
   "outputs": [
    {
     "name": "stdout",
     "output_type": "stream",
     "text": [
      "(10513, 8)\n",
      "(10513,)\n"
     ]
    }
   ],
   "source": [
    "## CODE HERE\n",
    "X= mfo[[col for col in mfo.columns if col not in ['F_class','F']]].values\n",
    "y= mfo['F_class']\n",
    "\n",
    "print(X.shape)\n",
    "print(y.shape)"
   ]
  },
  {
   "cell_type": "markdown",
   "metadata": {},
   "source": [
    "Lakukan over/under sampling dengan menggunakan Sampler dari `imblearn`."
   ]
  },
  {
   "cell_type": "code",
   "execution_count": 37,
   "metadata": {
    "ExecuteTime": {
     "end_time": "2020-08-26T01:56:27.155621Z",
     "start_time": "2020-08-26T01:56:27.134633Z"
    },
    "scrolled": true
   },
   "outputs": [],
   "source": [
    "from imblearn import over_sampling, under_sampling\n",
    "X_over, y_over = over_sampling.RandomOverSampler().fit_resample(X,y)\n",
    "## CODE HERE"
   ]
  },
  {
   "cell_type": "markdown",
   "metadata": {},
   "source": [
    "Jangan lupa cek distribusi kelas/label setelah sampling dengan menggunakan `value_counts()`."
   ]
  },
  {
   "cell_type": "code",
   "execution_count": 39,
   "metadata": {
    "ExecuteTime": {
     "end_time": "2020-08-30T02:17:08.221189Z",
     "start_time": "2020-08-30T02:17:08.219189Z"
    }
   },
   "outputs": [
    {
     "name": "stdout",
     "output_type": "stream",
     "text": [
      "False    10487\n",
      "True        26\n",
      "Name: F_class, dtype: int64\n",
      "True     10487\n",
      "False    10487\n",
      "Name: F_class, dtype: int64\n"
     ]
    }
   ],
   "source": [
    "## CODE HERE\n",
    "print(pd.Series(y).value_counts())\n",
    "print(pd.Series(y_over).value_counts())"
   ]
  },
  {
   "cell_type": "markdown",
   "metadata": {},
   "source": [
    "* Lainkali, bisa dicoba mengisi data null saja dengan fillna(), diisi dengan data median atau mean\n",
    "* Jika delete data null, jumlah data di kelas F=1 berkurang sangat drastis, lebih baik coba Fillna"
   ]
  }
 ],
 "metadata": {
  "kernelspec": {
   "display_name": "Python 3",
   "language": "python",
   "name": "python3"
  },
  "language_info": {
   "codemirror_mode": {
    "name": "ipython",
    "version": 3
   },
   "file_extension": ".py",
   "mimetype": "text/x-python",
   "name": "python",
   "nbconvert_exporter": "python",
   "pygments_lexer": "ipython3",
   "version": "3.8.3"
  }
 },
 "nbformat": 4,
 "nbformat_minor": 4
}
